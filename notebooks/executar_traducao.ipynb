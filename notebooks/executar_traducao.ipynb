{
 "cells": [
  {
   "cell_type": "markdown",
   "metadata": {},
   "source": [
    "# Simulação da Execução de Tradução\n",
    "\n",
    "Este notebook serve para testar e depurar a função `executar_traducao` do módulo `src.core.tradutor` de forma interativa, simulando os argumentos que seriam passados pela linha de comando."
   ]
  },
  {
   "cell_type": "markdown",
   "metadata": {},
   "source": [
    "### Configuração"
   ]
  },
  {
   "cell_type": "code",
   "execution_count": null,
   "metadata": {},
   "outputs": [],
   "source": [
    "# Caminho para o arquivo .srt que será traduzido.\n",
    "caminho_arquivo_entrada = \"../data/exemplo.en.srt\"\n",
    "\n",
    "# Opcionais\n",
    "\n",
    "# Caminho para o arquivo de saída. Se for None, será gerado na mesma pasta do arquivo de entrada\n",
    "caminho_arquivo_saida = None\n",
    "\n",
    "# Índice da primeira fala a ser traduzida. Use None para começar da primeira.\n",
    "fala_inicial_desejada = None\n",
    "\n",
    "# Índice da última fala a ser traduzida. Use None para ir até a última.\n",
    "fala_final_desejada = None"
   ]
  },
  {
   "cell_type": "markdown",
   "metadata": {},
   "source": [
    "### Construção dos demais parâmetros"
   ]
  },
  {
   "cell_type": "code",
   "execution_count": null,
   "metadata": {},
   "outputs": [],
   "source": [
    "import os\n",
    "import sys\n",
    "from types import SimpleNamespace\n",
    "from dotenv import load_dotenv\n",
    "\n",
    "# --- Bloco de Configuração ---\n",
    "\n",
    "# Adiciona a raiz do projeto ao path para permitir imports de 'src'\n",
    "raiz_projeto = os.path.abspath(os.path.join(os.getcwd(), '..'))\n",
    "if raiz_projeto not in sys.path:\n",
    "    sys.path.insert(0, raiz_projeto)\n",
    "\n",
    "# Carrega as variáveis de ambiente do arquivo .env\n",
    "caminho_env = os.path.join(raiz_projeto, 'config', '.env')\n",
    "if os.path.exists(caminho_env):\n",
    "    print(f\"Carregando variáveis de ambiente de: {caminho_env}\")\n",
    "    load_dotenv(caminho_env)\n",
    "else:\n",
    "    print(f\"Aviso: Arquivo .env não encontrado em {caminho_env}. Certifique-se de que suas chaves de API estão definidas no ambiente.\")\n",
    "\n",
    "# --- Variáveis Calculadas (Não edite) ---\n",
    "\n",
    "# Simula o objeto 'argumentos' criado pelo argparse no script principal.\n",
    "argumentos = SimpleNamespace(\n",
    "    arquivo_entrada=caminho_arquivo_entrada,\n",
    "    arquivo_saida=caminho_arquivo_saida,\n",
    "    fala_inicial=fala_inicial_desejada,\n",
    "    fala_final=fala_final_desejada\n",
    ")\n",
    "\n",
    "# Imprime resumo dos parametros configurados\n",
    "print(\"--- Configuração ---\")\n",
    "print(f\"Raiz do projeto: {raiz_projeto}\")\n",
    "print(f\"Arquivo de entrada: {argumentos.arquivo_entrada}\")\n",
    "print(f\"Arquivo de saída: {'Automático' if not argumentos.arquivo_saida else argumentos.arquivo_saida}\")\n",
    "print(f\"Processar falas de '{'Início' if not argumentos.fala_inicial else argumentos.fala_inicial}' até '{'Fim' if not argumentos.fala_final else argumentos.fala_final}'\")\n",
    "print(\"--------------------\\n\")"
   ]
  },
  {
   "cell_type": "markdown",
   "metadata": {},
   "source": [
    "### Execução"
   ]
  },
  {
   "cell_type": "code",
   "execution_count": null,
   "metadata": {},
   "outputs": [],
   "source": [
    "try:\n",
    "    # Importa a função principal do módulo tradutor\n",
    "    from src.core.tradutor import executar_traducao\n",
    "    \n",
    "    print(\"=====> Iniciando a execução da tradução...\")\n",
    "    \n",
    "    # Chama a função com os parâmetros configurados na célula anterior\n",
    "    executar_traducao(argumentos, raiz_projeto)\n",
    "    \n",
    "    print(\"\\n=====> Execução finalizada.\")\n",
    "    \n",
    "except ImportError as e:\n",
    "    print(f\"Erro de importação: {e}\")\n",
    "    print(\"Certifique-se de que o notebook está na pasta 'notebooks' e que a estrutura do projeto está correta.\")\n",
    "except Exception as e:\n",
    "    print(f\"Ocorreu um erro inesperado durante a execução: {e}\")\n"
   ]
  }
 ],
 "metadata": {
  "kernelspec": {
   "display_name": "venv (3.12.3)",
   "language": "python",
   "name": "python3"
  },
  "language_info": {
   "codemirror_mode": {
    "name": "ipython",
    "version": 3
   },
   "file_extension": ".py",
   "mimetype": "text/x-python",
   "name": "python",
   "nbconvert_exporter": "python",
   "pygments_lexer": "ipython3",
   "version": "3.12.3"
  }
 },
 "nbformat": 4,
 "nbformat_minor": 4
}
